{
 "cells": [
  {
   "cell_type": "markdown",
   "metadata": {},
   "source": [
    "# Health Stats Part 2: Waist 2 Hip Ratios"
   ]
  },
  {
   "cell_type": "markdown",
   "metadata": {},
   "source": [
    "<!--- Write an explanation of the Waist To Hips Ratio statistic used by health professionals. Please include an explanation of what it is used for, exactly how it is calculated, and how to interpret the results. Note: Formmatting matters. Make this as professional as you can using Markdown.  --->\n",
    "EDIT THIS MARKDOWN CELL"
   ]
  },
  {
   "cell_type": "markdown",
   "metadata": {},
   "source": [
    "## Source Data "
   ]
  },
  {
   "cell_type": "markdown",
   "metadata": {},
   "source": [
    "<!--- Replace the text below with a Markdown bullet list that defines the columns of the CSV file. Be sure to indicate the data type for each column. --->\n",
    "EDIT THIS MARKDOWN CELL"
   ]
  },
  {
   "cell_type": "markdown",
   "metadata": {},
   "source": [
    "## Data Import"
   ]
  },
  {
   "cell_type": "code",
   "execution_count": 261,
   "metadata": {},
   "outputs": [
    {
     "name": "stdout",
     "output_type": "stream",
     "text": [
      "[( 1,  30.,  32., 'M') ( 2,  32.,  37., 'M') ( 3,  30.,  36., 'M')\n",
      " ( 4,  33.,  39., 'M') ( 5,  29.,  33., 'M') ( 6,  32.,  38., 'M')\n",
      " ( 7,  33.,  42., 'M') ( 8,  30.,  40., 'M') ( 9,  30.,  37., 'M')\n",
      " (10,  32.,  39., 'M') (11,  24.,  35., 'F') (12,  25.,  37., 'F')\n",
      " (13,  24.,  37., 'F') (14,  22.,  34., 'F') (15,  26.,  38., 'F')\n",
      " (16,  26.,  37., 'F') (17,  25.,  38., 'F') (18,  26.,  37., 'F')\n",
      " (19,  28.,  40., 'F') (20,  23.,  35., 'F')]\n",
      "(20,)\n"
     ]
    }
   ],
   "source": [
    "import numpy as np #import numpy\n",
    "\n",
    "w2h_data= np.genfromtxt('w2h_data.csv',dtype=(int,float,float,\"U5\"), names=True ,delimiter=\",\" , autostrip= True) #convert lis-t to numpy arrays with names\n",
    "\n",
    "\n",
    "\n",
    "\n",
    "#print(np_w2h_data)\n",
    "\n",
    "#print(np_w2h_data.shape)\n",
    "#w2h_data_split =np.hsplit(w2h_data,1) #spliting the data into 20 rows and 5 columns \n",
    "\n",
    "\n",
    "#print(w2h_data_split)\n",
    "\n",
    "#print(w2h_data)\n",
    "\n",
    "#import pandas as pd #import panda\n",
    "\n",
    "#w2h_data= pd.read_csv('w2h_data.csv').as_matrix() #convert w2h raw data to matrix \n",
    "print(w2h_data)\n",
    "print(w2h_data.shape)"
   ]
  },
  {
   "cell_type": "code",
   "execution_count": null,
   "metadata": {
    "scrolled": true
   },
   "outputs": [],
   "source": []
  },
  {
   "cell_type": "markdown",
   "metadata": {},
   "source": [
    "## Calculations"
   ]
  },
  {
   "cell_type": "code",
   "execution_count": 262,
   "metadata": {},
   "outputs": [
    {
     "name": "stdout",
     "output_type": "stream",
     "text": [
      "[ True  True  True  True  True  True  True  True  True  True False False\n",
      " False False False False False False False False]\n",
      "[ True  True  True  True  True  True  True  True  True  True False False\n",
      " False False False False False False False False]\n",
      "[False False False False False False False False False False False False\n",
      " False False False False False False False False]\n",
      "[ True  True  True  True  True  True  True  True  True  True False False\n",
      " False False False False False False False False]\n",
      "['Apple' 'Apple' 'Apple' 'Apple' 'Apple' 'Apple' 'Apple' 'Apple' 'Apple'\n",
      " 'Apple' 'Pear' 'Pear' 'Pear' 'Pear' 'Pear' 'Pear' 'Pear' 'Pear' 'Pear'\n",
      " 'Pear']\n"
     ]
    }
   ],
   "source": [
    "# calculate the waist to hip ratio\n",
    "w2h_ratio=(w2h_data[\"Waist\"]/w2h_data[\"Hip\"])\n",
    "\n",
    "#Determine who is Male (T) or Female(F)\n",
    "males=(w2h_data[\"Gender\"]==\"M\")\n",
    "print(males)\n",
    "\n",
    "#Identify males with w2h ratio>0.9 = apple\n",
    "male_apple = np.logical_and((w2h_ratio>.09),males)\n",
    "print(male_apple)\n",
    "\n",
    "#identifu females with w2h_ratio>0.8 and not males\n",
    "female_apple = np.logical_and((w2h_ratio>0.8),np.logical_not(males))\n",
    "print(female_apple)\n",
    "\n",
    "#combine male and female apples\n",
    "apple=np.logical_or(male_apple,female_apple)\n",
    "print(apple)\n",
    "\n",
    "#Work like a if then else statement\n",
    "shapes=np.where(apple,\"Apple\",\"Pear\")\n",
    "print(shapes)\n",
    "\n",
    "#Code below creates a new results array\n",
    "\n",
    "#add the two new columns to the dtype descriptor\n",
    "#name = assigning dtype to the new array dt. \"w2h.descr= just the description for \"w2h_data\" Data type + the new two data arrays\n",
    "dt = np.dtype(w2h_data.dtype.descr + [(\"W2H Ratio\",float),(\"Shape\",\"U5\")])\n",
    "\n",
    "#create a new array name results with zeros and the same number of rows and the new data type\n",
    "results=np.zeros(w2h_data.shape,dtype=dt)\n",
    "\n",
    "#copy over the w2h_data's data\n",
    "# for each c (column) in w2h_data.dtype.names = in the filename.datatype. just the names\n",
    "\n",
    "for c in w2h_data.dtype.names:\n",
    "    results[c]=w2h_data[c]\n",
    "\n",
    "#add the two new columns\n",
    "results[\"W2H Ratio\"]=w2h_ratio\n",
    "results[\"Shape\"]=shapes\n",
    "\n",
    "     "
   ]
  },
  {
   "cell_type": "markdown",
   "metadata": {},
   "source": [
    "## Output"
   ]
  },
  {
   "cell_type": "code",
   "execution_count": 263,
   "metadata": {},
   "outputs": [
    {
     "data": {
      "text/html": [
       "<table><tr><th>ID</th><th>Waist</th><th>Hip</th><th>Gender</th><th>W2H Ratio</th><th>Shape</th></tr><tr><td>1</td><td>30.0</td><td>32.0</td><td>M</td><td>0.9375</td><td>Apple</td></tr><tr><td>2</td><td>32.0</td><td>37.0</td><td>M</td><td>0.864864864865</td><td>Apple</td></tr><tr><td>3</td><td>30.0</td><td>36.0</td><td>M</td><td>0.833333333333</td><td>Apple</td></tr><tr><td>4</td><td>33.0</td><td>39.0</td><td>M</td><td>0.846153846154</td><td>Apple</td></tr><tr><td>5</td><td>29.0</td><td>33.0</td><td>M</td><td>0.878787878788</td><td>Apple</td></tr><tr><td>6</td><td>32.0</td><td>38.0</td><td>M</td><td>0.842105263158</td><td>Apple</td></tr><tr><td>7</td><td>33.0</td><td>42.0</td><td>M</td><td>0.785714285714</td><td>Apple</td></tr><tr><td>8</td><td>30.0</td><td>40.0</td><td>M</td><td>0.75</td><td>Apple</td></tr><tr><td>9</td><td>30.0</td><td>37.0</td><td>M</td><td>0.810810810811</td><td>Apple</td></tr><tr><td>10</td><td>32.0</td><td>39.0</td><td>M</td><td>0.820512820513</td><td>Apple</td></tr><tr><td>11</td><td>24.0</td><td>35.0</td><td>F</td><td>0.685714285714</td><td>Pear</td></tr><tr><td>12</td><td>25.0</td><td>37.0</td><td>F</td><td>0.675675675676</td><td>Pear</td></tr><tr><td>13</td><td>24.0</td><td>37.0</td><td>F</td><td>0.648648648649</td><td>Pear</td></tr><tr><td>14</td><td>22.0</td><td>34.0</td><td>F</td><td>0.647058823529</td><td>Pear</td></tr><tr><td>15</td><td>26.0</td><td>38.0</td><td>F</td><td>0.684210526316</td><td>Pear</td></tr><tr><td>16</td><td>26.0</td><td>37.0</td><td>F</td><td>0.702702702703</td><td>Pear</td></tr><tr><td>17</td><td>25.0</td><td>38.0</td><td>F</td><td>0.657894736842</td><td>Pear</td></tr><tr><td>18</td><td>26.0</td><td>37.0</td><td>F</td><td>0.702702702703</td><td>Pear</td></tr><tr><td>19</td><td>28.0</td><td>40.0</td><td>F</td><td>0.7</td><td>Pear</td></tr><tr><td>20</td><td>23.0</td><td>35.0</td><td>F</td><td>0.657142857143</td><td>Pear</td></tr></table>"
      ],
      "text/plain": [
       "<IPython.core.display.HTML object>"
      ]
     },
     "metadata": {},
     "output_type": "display_data"
    }
   ],
   "source": [
    "# Goal: pretty print the rows as an HTML table\n",
    "\n",
    "\n",
    "# Note: this works, but we can do this much better with pandas\n",
    "html_table = '<table><tr><th>'\n",
    "html_table += \"</th><th>\".join(results.dtype.names)\n",
    "html_table += '</th></tr>'\n",
    "for row in results:\n",
    "    html_table += \"<tr><td>\"\n",
    "    html_table += \"</td><td>\".join(str(v) for v in row)\n",
    "    html_table += \"</td></tr>\"\n",
    "html_table += \"</table>\"\n",
    "\n",
    "from IPython.display import HTML, display\n",
    "display(HTML(html_table))\n",
    "\n",
    "\n",
    "np.savetxt(\"StatsResults.csv\",results,fmt='%s',delimiter=',',header=','.join(results.dtype.names),comments=\"\")"
   ]
  },
  {
   "cell_type": "code",
   "execution_count": null,
   "metadata": {
    "collapsed": true
   },
   "outputs": [],
   "source": []
  }
 ],
 "metadata": {
  "kernelspec": {
   "display_name": "Python 3",
   "language": "python",
   "name": "python3"
  },
  "language_info": {
   "codemirror_mode": {
    "name": "ipython",
    "version": 3
   },
   "file_extension": ".py",
   "mimetype": "text/x-python",
   "name": "python",
   "nbconvert_exporter": "python",
   "pygments_lexer": "ipython3",
   "version": "3.6.1"
  }
 },
 "nbformat": 4,
 "nbformat_minor": 2
}
